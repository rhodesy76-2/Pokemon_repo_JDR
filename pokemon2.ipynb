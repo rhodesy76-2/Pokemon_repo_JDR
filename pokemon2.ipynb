{
 "cells": [
  {
   "cell_type": "code",
   "execution_count": 1,
   "metadata": {},
   "outputs": [],
   "source": [
    "import requests"
   ]
  },
  {
   "cell_type": "code",
   "execution_count": 2,
   "metadata": {},
   "outputs": [],
   "source": [
    "endpoint = \"https://pokeapi.co/api/v2/pokemon/25\"\n",
    "r = requests.get(endpoint)\n",
    "pokemon_r = r.json()"
   ]
  },
  {
   "cell_type": "code",
   "execution_count": 4,
   "metadata": {},
   "outputs": [
    {
     "ename": "NameError",
     "evalue": "name 'front_default' is not defined",
     "output_type": "error",
     "traceback": [
      "\u001b[0;31m---------------------------------------------------------------------------\u001b[0m",
      "\u001b[0;31mNameError\u001b[0m                                 Traceback (most recent call last)",
      "\u001b[1;32m/Users/Rhodesy/jdr_test/pokemon2.ipynb Cell 3\u001b[0m in \u001b[0;36m<cell line: 2>\u001b[0;34m()\u001b[0m\n\u001b[1;32m      <a href='vscode-notebook-cell:/Users/Rhodesy/jdr_test/pokemon2.ipynb#W2sZmlsZQ%3D%3D?line=3'>4</a>\u001b[0m r \u001b[39m=\u001b[39m requests\u001b[39m.\u001b[39mget(endpoint)\n\u001b[1;32m      <a href='vscode-notebook-cell:/Users/Rhodesy/jdr_test/pokemon2.ipynb#W2sZmlsZQ%3D%3D?line=4'>5</a>\u001b[0m pokemon_r \u001b[39m=\u001b[39m r\u001b[39m.\u001b[39mjson()\n\u001b[1;32m      <a href='vscode-notebook-cell:/Users/Rhodesy/jdr_test/pokemon2.ipynb#W2sZmlsZQ%3D%3D?line=5'>6</a>\u001b[0m dict_links[pokemon_r[\u001b[39m'\u001b[39m\u001b[39mname\u001b[39m\u001b[39m'\u001b[39m]] \u001b[39m=\u001b[39m [\n\u001b[0;32m----> <a href='vscode-notebook-cell:/Users/Rhodesy/jdr_test/pokemon2.ipynb#W2sZmlsZQ%3D%3D?line=6'>7</a>\u001b[0m                                     pokemon_r[\u001b[39m'\u001b[39m\u001b[39msprites\u001b[39m\u001b[39m'\u001b[39m][front_default],\n\u001b[1;32m      <a href='vscode-notebook-cell:/Users/Rhodesy/jdr_test/pokemon2.ipynb#W2sZmlsZQ%3D%3D?line=7'>8</a>\u001b[0m                                     pokemon_r[\u001b[39m'\u001b[39m\u001b[39msprites\u001b[39m\u001b[39m'\u001b[39m][back_default]\n\u001b[1;32m      <a href='vscode-notebook-cell:/Users/Rhodesy/jdr_test/pokemon2.ipynb#W2sZmlsZQ%3D%3D?line=8'>9</a>\u001b[0m                                     ]\n",
      "\u001b[0;31mNameError\u001b[0m: name 'front_default' is not defined"
     ]
    }
   ],
   "source": [
    "dict_links = {}\n",
    "for n in range(1,151):\n",
    "    endpoint = \"https://pokeapi.co/api/v2/pokemon/25\"\n",
    "    r = requests.get(endpoint)\n",
    "    pokemon_r = r.json()\n",
    "    dict_links[pokemon_r['name']] = [\n",
    "                                        pokemon_r['sprites'][front_default],\n",
    "                                        pokemon_r['sprites'][back_default]\n",
    "                                        ]"
   ]
  },
  {
   "cell_type": "code",
   "execution_count": null,
   "metadata": {},
   "outputs": [],
   "source": []
  }
 ],
 "metadata": {
  "kernelspec": {
   "display_name": "Python 3.9.13 ('base')",
   "language": "python",
   "name": "python3"
  },
  "language_info": {
   "codemirror_mode": {
    "name": "ipython",
    "version": 3
   },
   "file_extension": ".py",
   "mimetype": "text/x-python",
   "name": "python",
   "nbconvert_exporter": "python",
   "pygments_lexer": "ipython3",
   "version": "3.9.13"
  },
  "orig_nbformat": 4,
  "vscode": {
   "interpreter": {
    "hash": "47d0aa99609c73a3feea6f60bdb5edfc6f25723aebe497ea52ba989f77a35758"
   }
  }
 },
 "nbformat": 4,
 "nbformat_minor": 2
}
