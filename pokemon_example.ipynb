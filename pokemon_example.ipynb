{
 "cells": [
  {
   "cell_type": "code",
   "execution_count": 1,
   "metadata": {},
   "outputs": [],
   "source": [
    "import requests"
   ]
  },
  {
   "cell_type": "code",
   "execution_count": null,
   "metadata": {},
   "outputs": [],
   "source": []
  },
  {
   "cell_type": "code",
   "execution_count": null,
   "metadata": {},
   "outputs": [],
   "source": []
  },
  {
   "cell_type": "code",
   "execution_count": null,
   "metadata": {},
   "outputs": [],
   "source": []
  },
  {
   "cell_type": "code",
   "execution_count": 1,
   "metadata": {},
   "outputs": [],
   "source": [
    "from dataclasses import dataclass\n",
    "\n",
    "\n",
    "@dataclass\n",
    "class Pokemon:\n",
    "    name: str\n",
    "    attack_points: int\n",
    "    defense_points: int\n",
    "    health_points: int\n",
    "    moves: list\n",
    "\n",
    "    def attack(self, other):\n",
    "        print(f'{self.name} attacked {other.name}')\n",
    "        other.health_points -= self.attack_points\n",
    "\n",
    "class Pokemon:\n",
    "    def __init__(self, name: str, attack_points, defense_points, health_points, moves, elemental_type):\n",
    "        self.name = name\n",
    "        self.attack_points = attack_points\n",
    "        self.defense_points = defense_points\n",
    "        self.health_points = health_points\n",
    "        self.moves = moves\n",
    "        self.elemental_type = elemental_type\n",
    "    \n",
    "    def attack(self, move, other):\n",
    "        if move.elemental_type > other.elemental_type:\n",
    "            print(f'{self.name} attacked {other.name}, and it was super effective!')\n",
    "            other.health_points -= self.attack_points * 2\n",
    "        else:\n",
    "            print(f'{self.name} attacked {other.name}')\n",
    "            other.health_points -= self.attack_points\n",
    "\n",
    "    def __repr__(self) -> str:\n",
    "        return f'This is a {self.name}, and it has {self.attack_points} attack point'\n",
    "\n",
    "    def __gt__(self, other):\n",
    "        return self.health_points > other.health_points\n",
    "\n",
    "\n",
    "class Move:\n",
    "    def __init__(self, attack_points, elemental_type):\n",
    "        self.attack_points = attack_points\n",
    "        self.elemental_type = elemental_type\n",
    "\n",
    "    def display(self):\n",
    "        print('This is a move')\n",
    "\n",
    "\n",
    "class Elemental:\n",
    "    def __init__(self, name):\n",
    "        self.name = name\n",
    "    \n",
    "    def __gt__(self, other):\n",
    "        if self.name == 'Grass' and other.name == 'Water':\n",
    "            return True\n",
    "        elif self.name == 'Grass' and other.name == 'Fire':\n",
    "            return False\n",
    "        elif self.name == 'Water' and other.name == 'Fire':\n",
    "            return True\n",
    "        elif self.name == 'Water' and other.name == 'Grass':\n",
    "            return False\n",
    "        elif self.name == 'Fire' and other.name == 'Grass':\n",
    "            return True\n",
    "        elif self.name == 'Fire' and other.name == 'Water':\n",
    "            return False\n",
    "\n",
    "\n",
    "class FireMove(Move):\n",
    "    def __init__(self, attack_points):\n",
    "        super().__init__(attack_points, Elemental('Fire'))\n",
    "\n",
    "class WaterMove(Move):\n",
    "    def __init__(self, attack_points):\n",
    "        super().__init__(attack_points, Elemental('Water'))\n",
    "\n",
    "class GrassMove(Move):\n",
    "    def __init__(self, attack_points):\n",
    "        super().__init__(attack_points, Elemental('Grass'))"
   ]
  },
  {
   "cell_type": "code",
   "execution_count": 3,
   "metadata": {},
   "outputs": [
    {
     "name": "stdout",
     "output_type": "stream",
     "text": [
      "True\n"
     ]
    }
   ],
   "source": [
    "fire = Elemental('Fire')\n",
    "water = Elemental('Water')\n",
    "grass = Elemental('Grass')\n",
    "\n",
    "print(grass > water)"
   ]
  },
  {
   "cell_type": "code",
   "execution_count": 4,
   "metadata": {},
   "outputs": [],
   "source": [
    "squirtle = Pokemon(name='Squirtle', attack_points=20, defense_points=30, health_points=120, moves=[], elemental_type=Elemental('Water'))\n",
    "charmander = Pokemon(name='Charmander', attack_points=20, defense_points=30, health_points=120, moves=[], elemental_type=Elemental('Fire'))\n",
    "water_gun = WaterMove(attack_points=20)\n",
    "flamethrower = FireMove(attack_points=20)"
   ]
  },
  {
   "cell_type": "code",
   "execution_count": 5,
   "metadata": {},
   "outputs": [
    {
     "name": "stdout",
     "output_type": "stream",
     "text": [
      "Squirtle attacked Charmander, and it was super effective!\n",
      "Charmander attacked Squirtle\n"
     ]
    }
   ],
   "source": [
    "squirtle.attack(water_gun, charmander)\n",
    "charmander.attack(flamethrower, squirtle)"
   ]
  },
  {
   "cell_type": "code",
   "execution_count": 6,
   "metadata": {},
   "outputs": [],
   "source": [
    "tackle = Move(40, 'Normal')\n",
    "flamethrower = FireMove(90)\n",
    "water_gun = WaterMove(50)\n",
    "razor_leaf = GrassMove(50)"
   ]
  },
  {
   "cell_type": "code",
   "execution_count": 14,
   "metadata": {},
   "outputs": [
    {
     "name": "stdout",
     "output_type": "stream",
     "text": [
      "Squirtle attacked Charmander, and it was super effective!\n",
      "Charmander attacked Squirtle\n",
      "Squirtle attacked Charmander, and it was super effective!\n",
      "Charmander attacked Squirtle\n",
      "Squirtle attacked Charmander, and it was super effective!\n",
      "Charmander died, squirtle won, and some random trainer is now crying\n"
     ]
    }
   ],
   "source": [
    "squirtle = Pokemon('Squirtle', attack_points=20, defense_points=30, health_points=120, moves=[], elemental_type=Elemental('Water'))\n",
    "charmander = Pokemon('Charmander', attack_points=20, defense_points=30, health_points=120, moves=[], elemental_type=Elemental('Fire'))\n",
    "\n",
    "while True:\n",
    "    squirtle.attack(water_gun, charmander)\n",
    "    if charmander.health_points <= 0:\n",
    "        print('Charmander died, squirtle won, and some random trainer is now crying')\n",
    "        break\n",
    "    charmander.attack(flamethrower, squirtle)\n",
    "    if squirtle.health_points <= 0:\n",
    "        print('Squirtle died, Charmander won, and some random trainer is now crying')\n",
    "        break"
   ]
  },
  {
   "cell_type": "code",
   "execution_count": 8,
   "metadata": {},
   "outputs": [
    {
     "data": {
      "text/plain": [
       "80"
      ]
     },
     "execution_count": 8,
     "metadata": {},
     "output_type": "execute_result"
    }
   ],
   "source": [
    "squirtle.health_points"
   ]
  },
  {
   "cell_type": "code",
   "execution_count": 9,
   "metadata": {},
   "outputs": [],
   "source": [
    "def battle(pokemon_1: Pokemon, pokemon_2: Pokemon):\n",
    "    while True:\n",
    "        pokemon_1.attack(pokemon_2)\n",
    "        if pokemon_2.health_points <= 0:\n",
    "            print(f'{pokemon_2.name} died, {pokemon_1.name} won, and some random trainer is now crying')\n",
    "            break\n",
    "        pokemon_2.attack(pokemon_1)\n",
    "        if pokemon_1.health_points <= 0:\n",
    "            print(f'{pokemon_1.name} died, {pokemon_2.name} won, and some random trainer is now crying')\n",
    "            break"
   ]
  },
  {
   "cell_type": "code",
   "execution_count": null,
   "metadata": {},
   "outputs": [],
   "source": []
  }
 ],
 "metadata": {
  "kernelspec": {
   "display_name": "Python 3.10.6 ('Pokemon-env')",
   "language": "python",
   "name": "python3"
  },
  "language_info": {
   "codemirror_mode": {
    "name": "ipython",
    "version": 3
   },
   "file_extension": ".py",
   "mimetype": "text/x-python",
   "name": "python",
   "nbconvert_exporter": "python",
   "pygments_lexer": "ipython3",
   "version": "3.10.6"
  },
  "orig_nbformat": 4,
  "vscode": {
   "interpreter": {
    "hash": "f24ad4aa2fea5c8f9aa76ceaa4c1564e7d61782bce57dab6d6dc7c322f20c87b"
   }
  }
 },
 "nbformat": 4,
 "nbformat_minor": 2
}
